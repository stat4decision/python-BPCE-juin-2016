{
 "cells": [
  {
   "cell_type": "code",
   "execution_count": 1,
   "metadata": {
    "collapsed": true
   },
   "outputs": [],
   "source": [
    "import numpy as np\n",
    "import pandas as pd\n",
    "import matplotlib.pyplot as plt\n",
    "%matplotlib inline"
   ]
  },
  {
   "cell_type": "code",
   "execution_count": 2,
   "metadata": {
    "collapsed": true
   },
   "outputs": [],
   "source": [
    "#importation de statsmodels\n",
    "import statsmodels.formula.api as smf"
   ]
  },
  {
   "cell_type": "code",
   "execution_count": 2,
   "metadata": {
    "collapsed": false
   },
   "outputs": [
    {
     "data": {
      "text/html": [
       "<div>\n",
       "<table border=\"1\" class=\"dataframe\">\n",
       "  <thead>\n",
       "    <tr style=\"text-align: right;\">\n",
       "      <th></th>\n",
       "      <th>TV</th>\n",
       "      <th>Radio</th>\n",
       "      <th>Newspaper</th>\n",
       "      <th>Sales</th>\n",
       "    </tr>\n",
       "  </thead>\n",
       "  <tbody>\n",
       "    <tr>\n",
       "      <th>1</th>\n",
       "      <td>230.1</td>\n",
       "      <td>37.8</td>\n",
       "      <td>69.2</td>\n",
       "      <td>22.1</td>\n",
       "    </tr>\n",
       "    <tr>\n",
       "      <th>2</th>\n",
       "      <td>44.5</td>\n",
       "      <td>39.3</td>\n",
       "      <td>45.1</td>\n",
       "      <td>10.4</td>\n",
       "    </tr>\n",
       "    <tr>\n",
       "      <th>3</th>\n",
       "      <td>17.2</td>\n",
       "      <td>45.9</td>\n",
       "      <td>69.3</td>\n",
       "      <td>9.3</td>\n",
       "    </tr>\n",
       "    <tr>\n",
       "      <th>4</th>\n",
       "      <td>151.5</td>\n",
       "      <td>41.3</td>\n",
       "      <td>58.5</td>\n",
       "      <td>18.5</td>\n",
       "    </tr>\n",
       "    <tr>\n",
       "      <th>5</th>\n",
       "      <td>180.8</td>\n",
       "      <td>10.8</td>\n",
       "      <td>58.4</td>\n",
       "      <td>12.9</td>\n",
       "    </tr>\n",
       "  </tbody>\n",
       "</table>\n",
       "</div>"
      ],
      "text/plain": [
       "      TV  Radio  Newspaper  Sales\n",
       "1  230.1   37.8       69.2   22.1\n",
       "2   44.5   39.3       45.1   10.4\n",
       "3   17.2   45.9       69.3    9.3\n",
       "4  151.5   41.3       58.5   18.5\n",
       "5  180.8   10.8       58.4   12.9"
      ]
     },
     "execution_count": 2,
     "metadata": {},
     "output_type": "execute_result"
    }
   ],
   "source": [
    "#importer les données Advertising.csv\n",
    "donnees = pd.read_csv('Advertising.csv', index_col=0)\n",
    "donnees.head()"
   ]
  },
  {
   "cell_type": "code",
   "execution_count": 5,
   "metadata": {
    "collapsed": false
   },
   "outputs": [
    {
     "name": "stdout",
     "output_type": "stream",
     "text": [
      "<class 'pandas.core.frame.DataFrame'>\n",
      "Int64Index: 200 entries, 1 to 200\n",
      "Data columns (total 4 columns):\n",
      "TV           200 non-null float64\n",
      "Radio        200 non-null float64\n",
      "Newspaper    200 non-null float64\n",
      "Sales        200 non-null float64\n",
      "dtypes: float64(4)\n",
      "memory usage: 7.8 KB\n"
     ]
    }
   ],
   "source": [
    "donnees.info()"
   ]
  },
  {
   "cell_type": "code",
   "execution_count": 35,
   "metadata": {
    "collapsed": false
   },
   "outputs": [],
   "source": [
    "#ajustement du modèle\n",
    "modeleOLS=smf.ols(formula='Sales~TV', data=donnees).fit()"
   ]
  },
  {
   "cell_type": "code",
   "execution_count": 36,
   "metadata": {
    "collapsed": false
   },
   "outputs": [
    {
     "data": {
      "text/html": [
       "<table class=\"simpletable\">\n",
       "<caption>OLS Regression Results</caption>\n",
       "<tr>\n",
       "  <th>Dep. Variable:</th>          <td>Sales</td>      <th>  R-squared:         </th> <td>   0.612</td>\n",
       "</tr>\n",
       "<tr>\n",
       "  <th>Model:</th>                   <td>OLS</td>       <th>  Adj. R-squared:    </th> <td>   0.610</td>\n",
       "</tr>\n",
       "<tr>\n",
       "  <th>Method:</th>             <td>Least Squares</td>  <th>  F-statistic:       </th> <td>   312.1</td>\n",
       "</tr>\n",
       "<tr>\n",
       "  <th>Date:</th>             <td>Tue, 21 Jun 2016</td> <th>  Prob (F-statistic):</th> <td>1.47e-42</td>\n",
       "</tr>\n",
       "<tr>\n",
       "  <th>Time:</th>                 <td>13:46:02</td>     <th>  Log-Likelihood:    </th> <td> -519.05</td>\n",
       "</tr>\n",
       "<tr>\n",
       "  <th>No. Observations:</th>      <td>   200</td>      <th>  AIC:               </th> <td>   1042.</td>\n",
       "</tr>\n",
       "<tr>\n",
       "  <th>Df Residuals:</th>          <td>   198</td>      <th>  BIC:               </th> <td>   1049.</td>\n",
       "</tr>\n",
       "<tr>\n",
       "  <th>Df Model:</th>              <td>     1</td>      <th>                     </th>     <td> </td>   \n",
       "</tr>\n",
       "<tr>\n",
       "  <th>Covariance Type:</th>      <td>nonrobust</td>    <th>                     </th>     <td> </td>   \n",
       "</tr>\n",
       "</table>\n",
       "<table class=\"simpletable\">\n",
       "<tr>\n",
       "      <td></td>         <th>coef</th>     <th>std err</th>      <th>t</th>      <th>P>|t|</th> <th>[95.0% Conf. Int.]</th> \n",
       "</tr>\n",
       "<tr>\n",
       "  <th>Intercept</th> <td>    7.0326</td> <td>    0.458</td> <td>   15.360</td> <td> 0.000</td> <td>    6.130     7.935</td>\n",
       "</tr>\n",
       "<tr>\n",
       "  <th>TV</th>        <td>    0.0475</td> <td>    0.003</td> <td>   17.668</td> <td> 0.000</td> <td>    0.042     0.053</td>\n",
       "</tr>\n",
       "</table>\n",
       "<table class=\"simpletable\">\n",
       "<tr>\n",
       "  <th>Omnibus:</th>       <td> 0.531</td> <th>  Durbin-Watson:     </th> <td>   1.935</td>\n",
       "</tr>\n",
       "<tr>\n",
       "  <th>Prob(Omnibus):</th> <td> 0.767</td> <th>  Jarque-Bera (JB):  </th> <td>   0.669</td>\n",
       "</tr>\n",
       "<tr>\n",
       "  <th>Skew:</th>          <td>-0.089</td> <th>  Prob(JB):          </th> <td>   0.716</td>\n",
       "</tr>\n",
       "<tr>\n",
       "  <th>Kurtosis:</th>      <td> 2.779</td> <th>  Cond. No.          </th> <td>    338.</td>\n",
       "</tr>\n",
       "</table>"
      ],
      "text/plain": [
       "<class 'statsmodels.iolib.summary.Summary'>\n",
       "\"\"\"\n",
       "                            OLS Regression Results                            \n",
       "==============================================================================\n",
       "Dep. Variable:                  Sales   R-squared:                       0.612\n",
       "Model:                            OLS   Adj. R-squared:                  0.610\n",
       "Method:                 Least Squares   F-statistic:                     312.1\n",
       "Date:                Tue, 21 Jun 2016   Prob (F-statistic):           1.47e-42\n",
       "Time:                        13:46:02   Log-Likelihood:                -519.05\n",
       "No. Observations:                 200   AIC:                             1042.\n",
       "Df Residuals:                     198   BIC:                             1049.\n",
       "Df Model:                           1                                         \n",
       "Covariance Type:            nonrobust                                         \n",
       "==============================================================================\n",
       "                 coef    std err          t      P>|t|      [95.0% Conf. Int.]\n",
       "------------------------------------------------------------------------------\n",
       "Intercept      7.0326      0.458     15.360      0.000         6.130     7.935\n",
       "TV             0.0475      0.003     17.668      0.000         0.042     0.053\n",
       "==============================================================================\n",
       "Omnibus:                        0.531   Durbin-Watson:                   1.935\n",
       "Prob(Omnibus):                  0.767   Jarque-Bera (JB):                0.669\n",
       "Skew:                          -0.089   Prob(JB):                        0.716\n",
       "Kurtosis:                       2.779   Cond. No.                         338.\n",
       "==============================================================================\n",
       "\n",
       "Warnings:\n",
       "[1] Standard Errors assume that the covariance matrix of the errors is correctly specified.\n",
       "\"\"\""
      ]
     },
     "execution_count": 36,
     "metadata": {},
     "output_type": "execute_result"
    }
   ],
   "source": [
    "modeleOLS.summary()"
   ]
  },
  {
   "cell_type": "code",
   "execution_count": 8,
   "metadata": {
    "collapsed": true
   },
   "outputs": [],
   "source": [
    "#regression linéaire avec scikit-learn\n",
    "from sklearn.linear_model import LinearRegression"
   ]
  },
  {
   "cell_type": "code",
   "execution_count": 9,
   "metadata": {
    "collapsed": true
   },
   "outputs": [],
   "source": [
    "#créer un objet reg lin\n",
    "modeleReg=LinearRegression()"
   ]
  },
  {
   "cell_type": "code",
   "execution_count": 11,
   "metadata": {
    "collapsed": false
   },
   "outputs": [],
   "source": [
    "#créer y et X\n",
    "list_var=donnees.columns.drop(\"Sales\")\n",
    "y=donnees.Sales\n",
    "X=donnees[list_var]"
   ]
  },
  {
   "cell_type": "code",
   "execution_count": 13,
   "metadata": {
    "collapsed": false
   },
   "outputs": [
    {
     "data": {
      "text/plain": [
       "LinearRegression(copy_X=True, fit_intercept=True, n_jobs=1, normalize=False)"
      ]
     },
     "execution_count": 13,
     "metadata": {},
     "output_type": "execute_result"
    }
   ],
   "source": [
    "modeleReg.fit(X,y)"
   ]
  },
  {
   "cell_type": "code",
   "execution_count": 14,
   "metadata": {
    "collapsed": false
   },
   "outputs": [
    {
     "name": "stdout",
     "output_type": "stream",
     "text": [
      "2.93888936946\n",
      "[ 0.04576465  0.18853002 -0.00103749]\n"
     ]
    }
   ],
   "source": [
    "print modeleReg.intercept_\n",
    "print modeleReg.coef_"
   ]
  },
  {
   "cell_type": "code",
   "execution_count": 16,
   "metadata": {
    "collapsed": false
   },
   "outputs": [
    {
     "data": {
      "text/plain": [
       "array([ 20.52397441,  12.33785482,  12.30767078,  17.59782951,\n",
       "        13.18867186,  12.47834763,  11.72975995,  12.12295317,\n",
       "         3.72734086,  12.55084872,   7.0322992 ,  17.28512918,\n",
       "        10.57712073,   8.82630048,  18.43436638,  20.81929952,\n",
       "        12.82365674,  23.22495716,   9.95168206,  14.16607293,\n",
       "        18.10076728,  14.7405382 ,   6.4891503 ,  16.5459329 ,\n",
       "         8.14651887,  15.6100386 ,  14.98951429,  17.05167344,\n",
       "        19.41053803,   9.14402389,  21.6339338 ,  11.3460929 ,\n",
       "         7.63888314,  18.86426829,   7.57483051,  17.00682618,\n",
       "        23.40590052,  15.62347779,   9.90868103,  20.44761039,\n",
       "        16.37766467,  17.2959832 ,  21.59580326,  13.96385684,\n",
       "         8.88787996,  15.16152314,   8.87338673,  21.7226299 ,\n",
       "        16.26362018,   8.1681656 ,  12.63121132,   9.33981296,\n",
       "        20.66297563,  19.94469957,  20.37443008,  21.2926106 ,\n",
       "         8.52771254,  12.77458802,  21.89805198,  18.13348698,\n",
       "         5.74215558,  22.89067208,  16.78426073,  13.21069202,\n",
       "        16.97773556,   7.84904532,   9.01603163,  12.0370073 ,\n",
       "        18.97657924,  21.10891244,  17.77949782,  10.62693815,\n",
       "        10.36684881,   9.90298206,  17.32931197,  11.85832174,\n",
       "         4.47758904,  13.81190223,   8.81331353,   9.67530328,\n",
       "        11.44592364,  14.64794093,  10.17840799,  14.42184212,\n",
       "        20.78136464,  15.18140789,  11.59870739,  15.59378475,\n",
       "        11.71127101,  16.92225511,   9.99922965,   4.49631598,\n",
       "        19.15639616,  21.22757378,  10.48212385,  16.31492112,\n",
       "        12.63571716,  15.33707782,  24.11860723,  16.94035021,\n",
       "        13.87595844,  23.24248685,  17.64409385,  14.76221142,\n",
       "        20.30110878,  17.93641467,   6.12602215,   7.10850249,\n",
       "         3.58725841,  19.69293106,  14.7598741 ,  21.14027498,\n",
       "        13.88060985,  16.40377623,  15.30509593,  12.91968895,\n",
       "        11.97874744,   6.5707774 ,  15.56609348,   6.82006767,\n",
       "        14.41010605,   7.83807642,  13.6264571 ,  15.0827909 ,\n",
       "        19.45441306,   9.12734958,  10.57717411,   6.599669  ,\n",
       "        22.25549161,   7.88410649,  10.4276871 ,  15.57779819,\n",
       "         8.44915012,  19.26692307,  11.8368039 ,  14.00141385,\n",
       "        11.45348627,  20.85125198,   9.76842795,  19.67547632,\n",
       "         9.48964097,  18.39902932,  19.24986927,   8.76480262,\n",
       "        10.09133403,   9.70853872,  15.29422368,  23.26086103,\n",
       "        12.26335941,   9.8272711 ,  18.36720534,  10.0095377 ,\n",
       "        16.3600003 ,  18.22390132,  15.50161696,   5.3075589 ,\n",
       "        15.38485192,  10.0143112 ,  10.38419866,  12.39914823,\n",
       "        14.21383298,  13.55914568,  14.94678206,  17.35163608,\n",
       "        11.0682946 ,  14.22372138,  10.82439531,  13.36324677,\n",
       "        17.1861428 ,  17.9415563 ,   7.39497997,  14.35827373,\n",
       "         7.60769238,  11.97093887,  13.74435742,  24.78687031,\n",
       "        19.9793727 ,  12.1620464 ,  16.01099722,  12.38455495,\n",
       "        10.5871997 ,  13.92809918,   6.55467   ,  24.13310013,\n",
       "        18.53852096,  20.80301059,   9.69137313,  17.07644223,\n",
       "        18.64430648,   6.05162411,  12.4891591 ,   8.42401933,\n",
       "         4.46622956,  18.48695797,  16.49530044,   5.37034248,\n",
       "         8.16531236,  12.78592082,  23.76732149,  15.17319554])"
      ]
     },
     "execution_count": 16,
     "metadata": {},
     "output_type": "execute_result"
    }
   ],
   "source": [
    "modeleReg.predict(X)"
   ]
  },
  {
   "cell_type": "code",
   "execution_count": 20,
   "metadata": {
    "collapsed": false
   },
   "outputs": [
    {
     "data": {
      "text/plain": [
       "1.6685701407225699"
      ]
     },
     "execution_count": 20,
     "metadata": {},
     "output_type": "execute_result"
    }
   ],
   "source": [
    "RMSE=np.sqrt(((y-modeleReg.predict(X))**2).sum()/len(y))\n",
    "RMSE"
   ]
  },
  {
   "cell_type": "code",
   "execution_count": 21,
   "metadata": {
    "collapsed": false
   },
   "outputs": [
    {
     "data": {
      "text/plain": [
       "[<matplotlib.lines.Line2D at 0xbb520b8>]"
      ]
     },
     "execution_count": 21,
     "metadata": {},
     "output_type": "execute_result"
    },
    {
     "data": {
      "image/png": "[encoded data removed]",
      "text/plain": [
       "<matplotlib.figure.Figure at 0xb9f3e48>"
      ]
     },
     "metadata": {},
     "output_type": "display_data"
    }
   ],
   "source": [
    "plt.plot(y, modeleReg.predict(X),'.')"
   ]
  },
  {
   "cell_type": "code",
   "execution_count": 22,
   "metadata": {
    "collapsed": false,
    "scrolled": true
   },
   "outputs": [
    {
     "data": {
      "text/plain": [
       "[<matplotlib.lines.Line2D at 0xbde3898>]"
      ]
     },
     "execution_count": 22,
     "metadata": {},
     "output_type": "execute_result"
    },
    {
     "data": {
      "image/png": "[encoded data removed]",
      "text/plain": [
       "<matplotlib.figure.Figure at 0xba81160>"
      ]
     },
     "metadata": {},
     "output_type": "display_data"
    }
   ],
   "source": [
    "plt.plot(y, y-modeleReg.predict(X),'.')"
   ]
  },
  {
   "cell_type": "code",
   "execution_count": 23,
   "metadata": {
    "collapsed": false
   },
   "outputs": [
    {
     "data": {
      "text/plain": [
       "0.89721063817895208"
      ]
     },
     "execution_count": 23,
     "metadata": {},
     "output_type": "execute_result"
    }
   ],
   "source": [
    "#calcul du R²\n",
    "modeleReg.score(X,y)"
   ]
  },
  {
   "cell_type": "code",
   "execution_count": 24,
   "metadata": {
    "collapsed": true
   },
   "outputs": [],
   "source": [
    "modeleRegSimple=LinearRegression()"
   ]
  },
  {
   "cell_type": "code",
   "execution_count": 29,
   "metadata": {
    "collapsed": false
   },
   "outputs": [
    {
     "data": {
      "text/plain": [
       "array([ 230.1,   44.5,   17.2,  151.5,  180.8,    8.7,   57.5,  120.2,\n",
       "          8.6,  199.8,   66.1,  214.7,   23.8,   97.5,  204.1,  195.4,\n",
       "         67.8,  281.4,   69.2,  147.3,  218.4,  237.4,   13.2,  228.3,\n",
       "         62.3,  262.9,  142.9,  240.1,  248.8,   70.6,  292.9,  112.9,\n",
       "         97.2,  265.6,   95.7,  290.7,  266.9,   74.7,   43.1,  228. ,\n",
       "        202.5,  177. ,  293.6,  206.9,   25.1,  175.1,   89.7,  239.9,\n",
       "        227.2,   66.9,  199.8,  100.4,  216.4,  182.6,  262.7,  198.9,\n",
       "          7.3,  136.2,  210.8,  210.7,   53.5,  261.3,  239.3,  102.7,\n",
       "        131.1,   69. ,   31.5,  139.3,  237.4,  216.8,  199.1,  109.8,\n",
       "         26.8,  129.4,  213.4,   16.9,   27.5,  120.5,    5.4,  116. ,\n",
       "         76.4,  239.8,   75.3,   68.4,  213.5,  193.2,   76.3,  110.7,\n",
       "         88.3,  109.8,  134.3,   28.6,  217.7,  250.9,  107.4,  163.3,\n",
       "        197.6,  184.9,  289.7,  135.2,  222.4,  296.4,  280.2,  187.9,\n",
       "        238.2,  137.9,   25. ,   90.4,   13.1,  255.4,  225.8,  241.7,\n",
       "        175.7,  209.6,   78.2,   75.1,  139.2,   76.4,  125.7,   19.4,\n",
       "        141.3,   18.8,  224. ,  123.1,  229.5,   87.2,    7.8,   80.2,\n",
       "        220.3,   59.6,    0.7,  265.2,    8.4,  219.8,   36.9,   48.3,\n",
       "         25.6,  273.7,   43. ,  184.9,   73.4,  193.7,  220.5,  104.6,\n",
       "         96.2,  140.3,  240.1,  243.2,   38. ,   44.7,  280.7,  121. ,\n",
       "        197.6,  171.3,  187.8,    4.1,   93.9,  149.8,   11.7,  131.7,\n",
       "        172.5,   85.7,  188.4,  163.5,  117.2,  234.5,   17.9,  206.8,\n",
       "        215.4,  284.3,   50. ,  164.5,   19.6,  168.4,  222.4,  276.9,\n",
       "        248.4,  170.2,  276.7,  165.6,  156.6,  218.5,   56.2,  287.6,\n",
       "        253.8,  205. ,  139.5,  191.1,  286. ,   18.7,   39.5,   75.5,\n",
       "         17.2,  166.8,  149.7,   38.2,   94.2,  177. ,  283.6,  232.1])"
      ]
     },
     "execution_count": 29,
     "metadata": {},
     "output_type": "execute_result"
    }
   ],
   "source": [
    "np.array(donnees[\"TV\"])"
   ]
  },
  {
   "cell_type": "code",
   "execution_count": 33,
   "metadata": {
    "collapsed": false
   },
   "outputs": [
    {
     "data": {
      "text/plain": [
       "LinearRegression(copy_X=True, fit_intercept=True, n_jobs=1, normalize=False)"
      ]
     },
     "execution_count": 33,
     "metadata": {},
     "output_type": "execute_result"
    }
   ],
   "source": [
    "modeleRegSimple.fit(donnees[\"TV\"].reshape(-1,1),y)"
   ]
  },
  {
   "cell_type": "code",
   "execution_count": 34,
   "metadata": {
    "collapsed": false
   },
   "outputs": [
    {
     "data": {
      "text/plain": [
       "[<matplotlib.lines.Line2D at 0xbedc0f0>]"
      ]
     },
     "execution_count": 34,
     "metadata": {},
     "output_type": "execute_result"
    },
    {
     "data": {
      "image/png": "[encoded data removed]",
      "text/plain": [
       "<matplotlib.figure.Figure at 0xbedc208>"
      ]
     },
     "metadata": {},
     "output_type": "display_data"
    }
   ],
   "source": [
    "plt.plot(donnees.TV,y,\"b.\")\n",
    "plt.plot(donnees.TV,modeleRegSimple.predict(donnees[\"TV\"].reshape(-1,1)),\"r\")\n"
   ]
  }
 ],
 "metadata": {
  "kernelspec": {
   "display_name": "Python 2",
   "language": "python",
   "name": "python2"
  },
  "language_info": {
   "codemirror_mode": {
    "name": "ipython",
    "version": 2
   },
   "file_extension": ".py",
   "mimetype": "text/x-python",
   "name": "python",
   "nbconvert_exporter": "python",
   "pygments_lexer": "ipython2",
   "version": "2.7.11"
  }
 },
 "nbformat": 4,
 "nbformat_minor": 0
}
